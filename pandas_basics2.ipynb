{
 "cells": [
  {
   "cell_type": "code",
   "id": "initial_id",
   "metadata": {
    "collapsed": true,
    "ExecuteTime": {
     "end_time": "2025-02-18T06:02:29.626712Z",
     "start_time": "2025-02-18T06:02:25.480740Z"
    }
   },
   "source": [
    "import pandas as pd\n",
    "import numpy as np"
   ],
   "outputs": [],
   "execution_count": 2
  },
  {
   "metadata": {},
   "cell_type": "markdown",
   "source": [
    "***Data Manipulation with Pandas***\n",
    "\n",
    "**Filtering and Selecting Data**"
   ],
   "id": "295c3cf7bcd314ce"
  },
  {
   "metadata": {
    "ExecuteTime": {
     "end_time": "2025-02-18T06:02:29.769430Z",
     "start_time": "2025-02-18T06:02:29.715470Z"
    }
   },
   "cell_type": "code",
   "source": [
    "#creating DataFrame using python Dictionary\n",
    "data = {\n",
    "    \"name\": [\"Alice\", \"Bob\", \"Charlie\", \"David\"],\n",
    "    \"age\": [25, np.nan, 35, 40],\n",
    "    \"salary\": [50000, 60000, np.nan, 80000]\n",
    "}\n",
    "df = pd.DataFrame(data)\n",
    "print(\"Original dataframe:\\n\",df)\n",
    "\n",
    "#*Filtering Rows\n",
    "# Select rows where salary is greater than 50,000\n",
    "filtered_df = df[df['salary'] > 50000]\n",
    "print(\"\\n\",filtered_df)\n",
    "\n",
    "#Selecting Specific Columns\n",
    "selected_df = df[[\"name\",\"salary\"]]\n",
    "print(\"\\n\",selected_df)"
   ],
   "id": "f05b86cf020e0933",
   "outputs": [
    {
     "name": "stdout",
     "output_type": "stream",
     "text": [
      "Original dataframe:\n",
      "       name   age   salary\n",
      "0    Alice  25.0  50000.0\n",
      "1      Bob   NaN  60000.0\n",
      "2  Charlie  35.0      NaN\n",
      "3    David  40.0  80000.0\n",
      "\n",
      "     name   age   salary\n",
      "1    Bob   NaN  60000.0\n",
      "3  David  40.0  80000.0\n",
      "\n",
      "       name   salary\n",
      "0    Alice  50000.0\n",
      "1      Bob  60000.0\n",
      "2  Charlie      NaN\n",
      "3    David  80000.0\n"
     ]
    }
   ],
   "execution_count": 3
  },
  {
   "metadata": {},
   "cell_type": "markdown",
   "source": "**Sorting Data**",
   "id": "4a50847d2d3511f6"
  },
  {
   "metadata": {
    "ExecuteTime": {
     "end_time": "2025-02-18T06:02:29.865866Z",
     "start_time": "2025-02-18T06:02:29.852217Z"
    }
   },
   "cell_type": "code",
   "source": [
    "#sorting by a single column\n",
    "# Sort by salary in ascending order\n",
    "sorted_df = df.sort_values(by=\"salary\")\n",
    "print(\"\\n\",sorted_df)\n",
    "\n",
    "#Sorting in Descending Order\n",
    "# Sort by age in descending order\n",
    "sorted_df = df.sort_values(by=\"age\", ascending=False)\n",
    "print(\"\\n\",sorted_df)"
   ],
   "id": "6fb3d3390a979043",
   "outputs": [
    {
     "name": "stdout",
     "output_type": "stream",
     "text": [
      "\n",
      "       name   age   salary\n",
      "0    Alice  25.0  50000.0\n",
      "1      Bob   NaN  60000.0\n",
      "3    David  40.0  80000.0\n",
      "2  Charlie  35.0      NaN\n",
      "\n",
      "       name   age   salary\n",
      "3    David  40.0  80000.0\n",
      "2  Charlie  35.0      NaN\n",
      "0    Alice  25.0  50000.0\n",
      "1      Bob   NaN  60000.0\n"
     ]
    }
   ],
   "execution_count": 4
  },
  {
   "metadata": {},
   "cell_type": "markdown",
   "source": "**Sort by age in descending order**",
   "id": "e6d76631e1e9ff78"
  },
  {
   "metadata": {
    "ExecuteTime": {
     "end_time": "2025-02-18T06:02:29.961076Z",
     "start_time": "2025-02-18T06:02:29.940435Z"
    }
   },
   "cell_type": "code",
   "source": [
    "data = {\n",
    "    \"department\": [\"HR\", \"HR\", \"IT\", \"IT\", \"Sales\", \"Sales\"],\n",
    "    \"employee\": [\"Alice\", \"Bob\", \"Charlie\", \"David\", \"Eva\", \"Frank\"],\n",
    "    \"salary\": [50000, 60000, 70000, 80000, 45000, 55000]\n",
    "}\n",
    "df = pd.DataFrame(data)\n",
    "\n",
    "#Group by and Aggregate\n",
    "# Group by department and calculate the average salary\n",
    "grouped_df = df.groupby(\"department\")[\"salary\"].mean()\n",
    "print(grouped_df)\n",
    "\n",
    "# Group by department and calculate both mean and max salary\n",
    "grouped_agg = df.groupby(\"department\")[\"salary\"].agg([\"mean\",\"max\"])\n",
    "print(\"\\n\",grouped_agg)"
   ],
   "id": "5484494e896040fa",
   "outputs": [
    {
     "name": "stdout",
     "output_type": "stream",
     "text": [
      "department\n",
      "HR       55000.0\n",
      "IT       75000.0\n",
      "Sales    50000.0\n",
      "Name: salary, dtype: float64\n",
      "\n",
      "                mean    max\n",
      "department                \n",
      "HR          55000.0  60000\n",
      "IT          75000.0  80000\n",
      "Sales       50000.0  55000\n"
     ]
    }
   ],
   "execution_count": 5
  },
  {
   "metadata": {},
   "cell_type": "markdown",
   "source": [
    "**Adding New Columns**\n",
    "\n",
    "Create a New Column"
   ],
   "id": "e93a1ca3e72bf16f"
  },
  {
   "metadata": {
    "ExecuteTime": {
     "end_time": "2025-02-18T06:02:30.021990Z",
     "start_time": "2025-02-18T06:02:30.007473Z"
    }
   },
   "cell_type": "code",
   "source": [
    "df[\"bonus\"] = [1000,2000,3000,4000,5000,6000]\n",
    "print(df)\n",
    "\n",
    "# Add a new column \"total_compensation\" as salary + bonus\n",
    "df[\"total_compensation\"] = df[\"salary\"] + df[\"bonus\"]\n",
    "print(\"\\n\",df)"
   ],
   "id": "19cef5ae0f4025b8",
   "outputs": [
    {
     "name": "stdout",
     "output_type": "stream",
     "text": [
      "  department employee  salary  bonus\n",
      "0         HR    Alice   50000   1000\n",
      "1         HR      Bob   60000   2000\n",
      "2         IT  Charlie   70000   3000\n",
      "3         IT    David   80000   4000\n",
      "4      Sales      Eva   45000   5000\n",
      "5      Sales    Frank   55000   6000\n",
      "\n",
      "   department employee  salary  bonus  total_compensation\n",
      "0         HR    Alice   50000   1000               51000\n",
      "1         HR      Bob   60000   2000               62000\n",
      "2         IT  Charlie   70000   3000               73000\n",
      "3         IT    David   80000   4000               84000\n",
      "4      Sales      Eva   45000   5000               50000\n",
      "5      Sales    Frank   55000   6000               61000\n"
     ]
    }
   ],
   "execution_count": 6
  },
  {
   "metadata": {},
   "cell_type": "markdown",
   "source": [
    "**Applying Functions to Columns**\n",
    "\n",
    "Using apply() for Custom Operations"
   ],
   "id": "66db634d6dc63fa5"
  },
  {
   "metadata": {
    "ExecuteTime": {
     "end_time": "2025-02-18T06:02:30.092071Z",
     "start_time": "2025-02-18T06:02:30.079642Z"
    }
   },
   "cell_type": "code",
   "source": [
    "# Increase all salaries by 10%\n",
    "df[\"salary\"] = df[\"salary\"].apply(lambda x : x * 1.10)\n",
    "print(\"\\n\",df)"
   ],
   "id": "94cb89d0e93f518b",
   "outputs": [
    {
     "name": "stdout",
     "output_type": "stream",
     "text": [
      "\n",
      "   department employee   salary  bonus  total_compensation\n",
      "0         HR    Alice  55000.0   1000               51000\n",
      "1         HR      Bob  66000.0   2000               62000\n",
      "2         IT  Charlie  77000.0   3000               73000\n",
      "3         IT    David  88000.0   4000               84000\n",
      "4      Sales      Eva  49500.0   5000               50000\n",
      "5      Sales    Frank  60500.0   6000               61000\n"
     ]
    }
   ],
   "execution_count": 7
  },
  {
   "metadata": {},
   "cell_type": "markdown",
   "source": [
    "**Practice Task**\n",
    "\n",
    "*Create a small DataFrame with columns like name, age, salary, and department. Try out the above operations:*\n",
    "\n",
    "Filter rows where age > 30.\n",
    "\n",
    "\n",
    "Sort by salary in descending order.\n",
    "\n",
    "Group by department and calculate the average age.\n",
    "\n",
    "Add a new column for increased salaries."
   ],
   "id": "1dbeb08217c1959f"
  },
  {
   "metadata": {
    "ExecuteTime": {
     "end_time": "2025-02-18T06:02:30.141186Z",
     "start_time": "2025-02-18T06:02:30.117720Z"
    }
   },
   "cell_type": "code",
   "source": [
    "data = {\n",
    "    \"name\" : [\"Manya\",\"Sushma\",\"Sunil\",\"Maya\",\"Lokesh\",\"nidhi\"],\n",
    "    \"age\" : [1,21,51,47,16,12],\n",
    "    \"salary\" : [80000,70000,60000,45000,40000,30000],\n",
    "    \"department\": [\"HR\", \"IT\", \"Sales\", \"Sales\", \"IT\", \"HR\"]\n",
    "}\n",
    "\n",
    "df = pd.DataFrame(data)\n",
    "print(df)\n",
    "\n",
    "filtered_df = df[df[\"age\"] > 30]\n",
    "print(\"\\n\",filtered_df)\n",
    "\n",
    "sorted_df = df.sort_values(by=\"salary\", ascending=False)\n",
    "print(\"\\n\",sorted_df)\n",
    "\n",
    "grouped_df = df.groupby(\"department\")[\"age\"].mean()\n",
    "print(\"\\n\",grouped_df)\n",
    "\n",
    "df[\"increased_salary\"] = df[\"salary\"] + 5000\n",
    "print(\"\\n\",df)"
   ],
   "id": "1db3615937711822",
   "outputs": [
    {
     "name": "stdout",
     "output_type": "stream",
     "text": [
      "     name  age  salary department\n",
      "0   Manya    1   80000         HR\n",
      "1  Sushma   21   70000         IT\n",
      "2   Sunil   51   60000      Sales\n",
      "3    Maya   47   45000      Sales\n",
      "4  Lokesh   16   40000         IT\n",
      "5   nidhi   12   30000         HR\n",
      "\n",
      "     name  age  salary department\n",
      "2  Sunil   51   60000      Sales\n",
      "3   Maya   47   45000      Sales\n",
      "\n",
      "      name  age  salary department\n",
      "0   Manya    1   80000         HR\n",
      "1  Sushma   21   70000         IT\n",
      "2   Sunil   51   60000      Sales\n",
      "3    Maya   47   45000      Sales\n",
      "4  Lokesh   16   40000         IT\n",
      "5   nidhi   12   30000         HR\n",
      "\n",
      " department\n",
      "HR        6.5\n",
      "IT       18.5\n",
      "Sales    49.0\n",
      "Name: age, dtype: float64\n",
      "\n",
      "      name  age  salary department  increased_salary\n",
      "0   Manya    1   80000         HR             85000\n",
      "1  Sushma   21   70000         IT             75000\n",
      "2   Sunil   51   60000      Sales             65000\n",
      "3    Maya   47   45000      Sales             50000\n",
      "4  Lokesh   16   40000         IT             45000\n",
      "5   nidhi   12   30000         HR             35000\n"
     ]
    }
   ],
   "execution_count": 8
  },
  {
   "metadata": {},
   "cell_type": "markdown",
   "source": "**Handling Missing Data**",
   "id": "6da26559a757be19"
  },
  {
   "metadata": {
    "ExecuteTime": {
     "end_time": "2025-02-18T06:02:30.185489Z",
     "start_time": "2025-02-18T06:02:30.164843Z"
    }
   },
   "cell_type": "code",
   "source": [
    "#Sample data with missing values\n",
    "data = {\n",
    "    \"name\": [\"Manya\", \"Sushma\", \"Sunil\", \"Maya\", \"Lokesh\", \"Nidhi\"],\n",
    "    \"age\": [1, 21, 51, None, 16, None],\n",
    "    \"salary\": [80000, None, 60000, 45000, 40000, 30000]\n",
    "}\n",
    "\n",
    "df = pd.DataFrame(data)\n",
    "print(\"Original DataFrame:\\n\", df)\n",
    "\n",
    "# Fill missing values with a default value (e.g., 0 or a placeholder)\n",
    "df_filled = df.fillna(0)\n",
    "print(\"\\nFilled Missing Values:\\n\",df_filled)\n",
    "\n",
    "# Drop rows with missing values\n",
    "df_dropped = df.dropna()\n",
    "print(\"\\nDropped Missing Values:\\n\",df_dropped)"
   ],
   "id": "9178857bc97f4abf",
   "outputs": [
    {
     "name": "stdout",
     "output_type": "stream",
     "text": [
      "Original DataFrame:\n",
      "      name   age   salary\n",
      "0   Manya   1.0  80000.0\n",
      "1  Sushma  21.0      NaN\n",
      "2   Sunil  51.0  60000.0\n",
      "3    Maya   NaN  45000.0\n",
      "4  Lokesh  16.0  40000.0\n",
      "5   Nidhi   NaN  30000.0\n",
      "\n",
      "Filled Missing Values:\n",
      "      name   age   salary\n",
      "0   Manya   1.0  80000.0\n",
      "1  Sushma  21.0      0.0\n",
      "2   Sunil  51.0  60000.0\n",
      "3    Maya   0.0  45000.0\n",
      "4  Lokesh  16.0  40000.0\n",
      "5   Nidhi   0.0  30000.0\n",
      "\n",
      "Dropped Missing Values:\n",
      "      name   age   salary\n",
      "0   Manya   1.0  80000.0\n",
      "2   Sunil  51.0  60000.0\n",
      "4  Lokesh  16.0  40000.0\n"
     ]
    }
   ],
   "execution_count": 9
  },
  {
   "metadata": {},
   "cell_type": "markdown",
   "source": "**Renaming Columns**",
   "id": "ee1e5139f5b92456"
  },
  {
   "metadata": {
    "ExecuteTime": {
     "end_time": "2025-02-18T06:02:30.241254Z",
     "start_time": "2025-02-18T06:02:30.218467Z"
    }
   },
   "cell_type": "code",
   "source": [
    "# Rename the \"salary\" column to \"monthly_income\"\n",
    "renamed = df.rename(columns={\"salary\" : \"monthly_income\"})\n",
    "print(\"\\nRenamed column:\\n\", renamed)"
   ],
   "id": "657a329dc1b47a3e",
   "outputs": [
    {
     "name": "stdout",
     "output_type": "stream",
     "text": [
      "\n",
      "Renamed column:\n",
      "      name   age  monthly_income\n",
      "0   Manya   1.0         80000.0\n",
      "1  Sushma  21.0             NaN\n",
      "2   Sunil  51.0         60000.0\n",
      "3    Maya   NaN         45000.0\n",
      "4  Lokesh  16.0         40000.0\n",
      "5   Nidhi   NaN         30000.0\n"
     ]
    }
   ],
   "execution_count": 10
  },
  {
   "metadata": {},
   "cell_type": "markdown",
   "source": [
    "**Merging and Joining DataFrames**\n",
    "\n",
    "We can combine multiple DataFrames using merge(), join(), or concat()."
   ],
   "id": "af70016727b22265"
  },
  {
   "metadata": {
    "ExecuteTime": {
     "end_time": "2025-02-18T06:02:30.303283Z",
     "start_time": "2025-02-18T06:02:30.290035Z"
    }
   },
   "cell_type": "code",
   "source": [
    "# New DataFrame with additional information\n",
    "new_data = {\n",
    "    \"name\": [\"Manya\", \"Sushma\", \"Sunil\", \"Maya\", \"Lokesh\", \"Nidhi\"],\n",
    "    \"city\": [\"Pune\", \"Mumbai\", \"Delhi\", \"Chennai\", \"Bangalore\", \"Hyderabad\"]\n",
    "}\n",
    "\n",
    "new_df = pd.DataFrame(new_data)\n",
    "\n",
    "# Merge both DataFrames on the \"name\" column\n",
    "merged_df = pd.merge(df, new_df, on=\"name\")\n",
    "print(\"\\nMerged DataFrames:\\n\",merged_df)"
   ],
   "id": "6340786b09a6e661",
   "outputs": [
    {
     "name": "stdout",
     "output_type": "stream",
     "text": [
      "\n",
      "Merged DataFrames:\n",
      "      name   age   salary       city\n",
      "0   Manya   1.0  80000.0       Pune\n",
      "1  Sushma  21.0      NaN     Mumbai\n",
      "2   Sunil  51.0  60000.0      Delhi\n",
      "3    Maya   NaN  45000.0    Chennai\n",
      "4  Lokesh  16.0  40000.0  Bangalore\n",
      "5   Nidhi   NaN  30000.0  Hyderabad\n"
     ]
    }
   ],
   "execution_count": 11
  },
  {
   "metadata": {},
   "cell_type": "markdown",
   "source": [
    "**Pivot Tables**\n",
    "\n",
    "Pivot tables are great for reshaping and summarizing data."
   ],
   "id": "1fa1dfdec8879ae"
  },
  {
   "metadata": {
    "ExecuteTime": {
     "end_time": "2025-02-18T06:02:30.374909Z",
     "start_time": "2025-02-18T06:02:30.358839Z"
    }
   },
   "cell_type": "code",
   "source": [
    "# Create a pivot table to calculate the average salary per department\n",
    "data = {\n",
    "    \"department\": [\"HR\", \"IT\", \"Sales\", \"Sales\", \"IT\", \"HR\"],\n",
    "    \"salary\": [80000, 70000, 60000, 45000, 40000, 30000],\n",
    "    \"age\": [1, 21, 51, 47, 16, 12]\n",
    "}\n",
    "\n",
    "df_pivot = pd.DataFrame(data)\n",
    "\n",
    "# Create a pivot table summarizing average salary by department\n",
    "pivot_table = df_pivot.pivot_table(values=\"salary\", index=\"department\", aggfunc=\"mean\")\n",
    "print(\"\\npivot table:\\n\", pivot_table)"
   ],
   "id": "8303f1308f86e0bf",
   "outputs": [
    {
     "name": "stdout",
     "output_type": "stream",
     "text": [
      "\n",
      "pivot table:\n",
      "              salary\n",
      "department         \n",
      "HR          55000.0\n",
      "IT          55000.0\n",
      "Sales       52500.0\n"
     ]
    }
   ],
   "execution_count": 12
  },
  {
   "metadata": {},
   "cell_type": "markdown",
   "source": [
    "**Multi-Level Indexing**\n",
    "\n",
    "Multi-level indexing is used when we want to group and organize data by multiple levels."
   ],
   "id": "a37c928d421be275"
  },
  {
   "metadata": {
    "ExecuteTime": {
     "end_time": "2025-02-18T06:02:30.405278Z",
     "start_time": "2025-02-18T06:02:30.390421Z"
    }
   },
   "cell_type": "code",
   "source": [
    "# Create multi-level indexed DataFrame\n",
    "data = {\n",
    "    \"department\": [\"HR\", \"HR\", \"IT\", \"IT\", \"Sales\", \"Sales\"],\n",
    "    \"region\": [\"North\", \"South\", \"North\", \"South\", \"North\", \"South\"],\n",
    "    \"salary\": [80000, 30000, 70000, 40000, 60000, 45000]\n",
    "}\n",
    "\n",
    "df_multi = pd.DataFrame(data)\n",
    "df_multi.set_index([\"department\",\"region\"], inplace=True)\n",
    "print(\"\\nMulti-Level Indexed DataFrame:\\n\", df_multi)"
   ],
   "id": "e5d29a71edd19db1",
   "outputs": [
    {
     "name": "stdout",
     "output_type": "stream",
     "text": [
      "\n",
      "Multi-Level Indexed DataFrame:\n",
      "                    salary\n",
      "department region        \n",
      "HR         North    80000\n",
      "           South    30000\n",
      "IT         North    70000\n",
      "           South    40000\n",
      "Sales      North    60000\n",
      "           South    45000\n"
     ]
    }
   ],
   "execution_count": 13
  },
  {
   "metadata": {},
   "cell_type": "markdown",
   "source": "**Filtering Rows Based on Multiple Conditions**",
   "id": "6a8ccfc8c336ee87"
  },
  {
   "metadata": {
    "ExecuteTime": {
     "end_time": "2025-02-18T06:05:30.495397Z",
     "start_time": "2025-02-18T06:05:30.472148Z"
    }
   },
   "cell_type": "code",
   "source": [
    "# Filter rows where salary is greater than 50000 and age is above 20\n",
    "filtered_rows = df[(df[\"salary\"] > 50000) & (df[\"age\"] > 20)]\n",
    "print(\"\\n rows with salary greater than 50000 and age greater than 20:\\n\", filtered_rows)"
   ],
   "id": "6fe156002d1a7b51",
   "outputs": [
    {
     "name": "stdout",
     "output_type": "stream",
     "text": [
      "\n",
      " rows with salary greater tha 5000 and age greater than 20:\n",
      "     name   age   salary\n",
      "2  Sunil  51.0  60000.0\n"
     ]
    }
   ],
   "execution_count": 18
  },
  {
   "metadata": {},
   "cell_type": "markdown",
   "source": "**Adding Calculated Columns**",
   "id": "7b22475ef5a27bad"
  },
  {
   "metadata": {
    "ExecuteTime": {
     "end_time": "2025-02-18T06:11:06.129865Z",
     "start_time": "2025-02-18T06:11:06.115148Z"
    }
   },
   "cell_type": "code",
   "source": [
    "# Add a column for annual salary (12 times the monthly salary)\n",
    "df[\"annual_salary\"] = df[\"salary\"] * 12\n",
    "print(\"\\nDataFrame with Annual salary:\\n\",df)"
   ],
   "id": "8197664ee2c98d3e",
   "outputs": [
    {
     "name": "stdout",
     "output_type": "stream",
     "text": [
      "\n",
      "DataFrame with Annual salary:\n",
      "      name   age   salary  annual_salary\n",
      "0   Manya   1.0  80000.0       960000.0\n",
      "1  Sushma  21.0      NaN            NaN\n",
      "2   Sunil  51.0  60000.0       720000.0\n",
      "3    Maya   NaN  45000.0       540000.0\n",
      "4  Lokesh  16.0  40000.0       480000.0\n",
      "5   Nidhi   NaN  30000.0       360000.0\n"
     ]
    }
   ],
   "execution_count": 20
  },
  {
   "metadata": {},
   "cell_type": "markdown",
   "source": "**Sorting by Multiple Columns**",
   "id": "3b5156e573f9fa12"
  },
  {
   "metadata": {
    "ExecuteTime": {
     "end_time": "2025-02-18T06:43:52.881950Z",
     "start_time": "2025-02-18T06:43:52.742696Z"
    }
   },
   "cell_type": "code",
   "source": [
    "# Sort by \"salary\" in descending order and by \"age\" in ascending order\n",
    "sorted_df = df.sort_values(by=[\"salary\",\"age\"], ascending=[False,True])\n",
    "print(\"\\nsorted by salary (Descending) and age (Ascending): \\n\",sorted_df)"
   ],
   "id": "9fa45edfa3ecc0c3",
   "outputs": [
    {
     "name": "stdout",
     "output_type": "stream",
     "text": [
      "\n",
      "sorted by salary (Descending) and age (Ascending): \n",
      "      name   age   salary  annual_salary\n",
      "0   Manya   1.0  80000.0       960000.0\n",
      "2   Sunil  51.0  60000.0       720000.0\n",
      "3    Maya   NaN  45000.0       540000.0\n",
      "4  Lokesh  16.0  40000.0       480000.0\n",
      "5   Nidhi   NaN  30000.0       360000.0\n",
      "1  Sushma  21.0      NaN            NaN\n"
     ]
    }
   ],
   "execution_count": 21
  },
  {
   "metadata": {},
   "cell_type": "markdown",
   "source": "**Grouping and Aggregating with Multiple Functions**",
   "id": "836588c4ba49f164"
  },
  {
   "metadata": {
    "ExecuteTime": {
     "end_time": "2025-02-18T07:00:54.192361Z",
     "start_time": "2025-02-18T07:00:54.175348Z"
    }
   },
   "cell_type": "code",
   "source": [
    "#add a Department column to the DataFrame\n",
    "df[\"department\"] = [\"HR\", \"HR\", \"IT\", \"IT\", \"Sales\", \"Sales\"]\n",
    "print(\"\\nDataFrame with department:\\n\",df)\n",
    "\n",
    "# Group by department and calculate mean and max salary\n",
    "grouped_multi = df.groupby(\"department\")[\"annual_salary\"].agg([\"mean\",\"max\"])\n",
    "print(\"\\nGrouped by Department (Mean and Max salary):\\n\", grouped_multi)"
   ],
   "id": "5d9d06e73e5c1612",
   "outputs": [
    {
     "name": "stdout",
     "output_type": "stream",
     "text": [
      "\n",
      "DataFrame with department:\n",
      "      name   age   salary  annual_salary department\n",
      "0   Manya   1.0  80000.0       960000.0         HR\n",
      "1  Sushma  21.0      NaN            NaN         HR\n",
      "2   Sunil  51.0  60000.0       720000.0         IT\n",
      "3    Maya   NaN  45000.0       540000.0         IT\n",
      "4  Lokesh  16.0  40000.0       480000.0      Sales\n",
      "5   Nidhi   NaN  30000.0       360000.0      Sales\n",
      "\n",
      "Grouped by Department (Mean and Max salary):\n",
      "                 mean       max\n",
      "department                    \n",
      "HR          960000.0  960000.0\n",
      "IT          630000.0  720000.0\n",
      "Sales       420000.0  480000.0\n"
     ]
    }
   ],
   "execution_count": 28
  },
  {
   "metadata": {},
   "cell_type": "markdown",
   "source": "**Exporting Data to a CSV File**",
   "id": "8a012b6e541fa6f4"
  },
  {
   "metadata": {
    "ExecuteTime": {
     "end_time": "2025-02-18T07:03:36.674430Z",
     "start_time": "2025-02-18T07:03:36.567517Z"
    }
   },
   "cell_type": "code",
   "source": [
    "# Export the DataFrame to a CSV file\n",
    "df.to_csv(\"exported_data.csv\", index=False)\n",
    "print(\"\\nData exported to 'exported_data.csv'.\")"
   ],
   "id": "ea452dc9b85544",
   "outputs": [
    {
     "name": "stdout",
     "output_type": "stream",
     "text": [
      "\n",
      "Data exported to 'exported_data.csv'.\n"
     ]
    }
   ],
   "execution_count": 29
  }
 ],
 "metadata": {
  "kernelspec": {
   "display_name": "Python 3",
   "language": "python",
   "name": "python3"
  },
  "language_info": {
   "codemirror_mode": {
    "name": "ipython",
    "version": 2
   },
   "file_extension": ".py",
   "mimetype": "text/x-python",
   "name": "python",
   "nbconvert_exporter": "python",
   "pygments_lexer": "ipython2",
   "version": "2.7.6"
  }
 },
 "nbformat": 4,
 "nbformat_minor": 5
}
