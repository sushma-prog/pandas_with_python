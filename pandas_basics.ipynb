{
 "cells": [
  {
   "cell_type": "code",
   "id": "initial_id",
   "metadata": {
    "collapsed": true,
    "ExecuteTime": {
     "end_time": "2025-02-17T11:51:03.285260Z",
     "start_time": "2025-02-17T11:50:59.183536Z"
    }
   },
   "source": "!pip install pandas",
   "outputs": [
    {
     "name": "stdout",
     "output_type": "stream",
     "text": [
      "Requirement already satisfied: pandas in c:\\users\\lucky\\pycharmmiscproject\\.venv\\lib\\site-packages (2.2.3)\n",
      "Requirement already satisfied: numpy>=1.26.0 in c:\\users\\lucky\\pycharmmiscproject\\.venv\\lib\\site-packages (from pandas) (2.2.2)\n",
      "Requirement already satisfied: python-dateutil>=2.8.2 in c:\\users\\lucky\\pycharmmiscproject\\.venv\\lib\\site-packages (from pandas) (2.9.0.post0)\n",
      "Requirement already satisfied: pytz>=2020.1 in c:\\users\\lucky\\pycharmmiscproject\\.venv\\lib\\site-packages (from pandas) (2025.1)\n",
      "Requirement already satisfied: tzdata>=2022.7 in c:\\users\\lucky\\pycharmmiscproject\\.venv\\lib\\site-packages (from pandas) (2025.1)\n",
      "Requirement already satisfied: six>=1.5 in c:\\users\\lucky\\pycharmmiscproject\\.venv\\lib\\site-packages (from python-dateutil>=2.8.2->pandas) (1.17.0)\n"
     ]
    }
   ],
   "execution_count": 36
  },
  {
   "metadata": {
    "ExecuteTime": {
     "end_time": "2025-02-17T11:51:03.303985Z",
     "start_time": "2025-02-17T11:51:03.297842Z"
    }
   },
   "cell_type": "code",
   "source": [
    "import pandas as pd\n",
    "import numpy as np"
   ],
   "id": "c27f5ada04796b22",
   "outputs": [],
   "execution_count": 37
  },
  {
   "metadata": {},
   "cell_type": "markdown",
   "source": [
    "**Creating a Pandas Series**\n",
    "\n",
    "A Series is a one-dimensional labeled array capable of holding any data type."
   ],
   "id": "7b9ca2d38e8e48d7"
  },
  {
   "metadata": {},
   "cell_type": "markdown",
   "source": "*Creating a series from list*",
   "id": "718f61829a000335"
  },
  {
   "metadata": {
    "ExecuteTime": {
     "end_time": "2025-02-17T11:51:03.348604Z",
     "start_time": "2025-02-17T11:51:03.332956Z"
    }
   },
   "cell_type": "code",
   "source": [
    "data = [10,20,30,40,50]\n",
    "series = pd.Series(data)\n",
    "print(series)"
   ],
   "id": "eeee65ef8bde5a02",
   "outputs": [
    {
     "name": "stdout",
     "output_type": "stream",
     "text": [
      "0    10\n",
      "1    20\n",
      "2    30\n",
      "3    40\n",
      "4    50\n",
      "dtype: int64\n"
     ]
    }
   ],
   "execution_count": 38
  },
  {
   "metadata": {},
   "cell_type": "markdown",
   "source": "*Creating a series with custom index*",
   "id": "4153e17aca10ea1e"
  },
  {
   "metadata": {
    "ExecuteTime": {
     "end_time": "2025-02-17T11:51:03.381288Z",
     "start_time": "2025-02-17T11:51:03.370757Z"
    }
   },
   "cell_type": "code",
   "source": [
    "data = [100,200,300,400]\n",
    "new_index = ['a','b','c','d']\n",
    "series = pd.Series(data, index = new_index)\n",
    "print(series)"
   ],
   "id": "aa856d6842f99157",
   "outputs": [
    {
     "name": "stdout",
     "output_type": "stream",
     "text": [
      "a    100\n",
      "b    200\n",
      "c    300\n",
      "d    400\n",
      "dtype: int64\n"
     ]
    }
   ],
   "execution_count": 39
  },
  {
   "metadata": {},
   "cell_type": "markdown",
   "source": " *Accessing Elements in a Series*",
   "id": "7406a9414e78d86e"
  },
  {
   "metadata": {
    "ExecuteTime": {
     "end_time": "2025-02-17T11:51:03.471215Z",
     "start_time": "2025-02-17T11:51:03.420641Z"
    }
   },
   "cell_type": "code",
   "source": [
    "#accessing by index\n",
    "print(series,\"\\n\")\n",
    "print(series['b'],\"\\n\")\n",
    "\n",
    "#accessing multiple values\n",
    "print(series[['a','b','d']],\"\\n\")"
   ],
   "id": "1f66b0b23ee67c52",
   "outputs": [
    {
     "name": "stdout",
     "output_type": "stream",
     "text": [
      "a    100\n",
      "b    200\n",
      "c    300\n",
      "d    400\n",
      "dtype: int64 \n",
      "\n",
      "200 \n",
      "\n",
      "a    100\n",
      "b    200\n",
      "d    400\n",
      "dtype: int64 \n",
      "\n"
     ]
    }
   ],
   "execution_count": 40
  },
  {
   "metadata": {},
   "cell_type": "markdown",
   "source": "*performing operations on series*",
   "id": "b00dc0d1478fd82a"
  },
  {
   "metadata": {
    "ExecuteTime": {
     "end_time": "2025-02-17T11:51:03.527477Z",
     "start_time": "2025-02-17T11:51:03.493815Z"
    }
   },
   "cell_type": "code",
   "source": [
    "#scalar operations\n",
    "print(series * 2,\"\\n\")\n",
    "\n",
    "#applying functions\n",
    "print(series.mean())\n",
    "print(series.sum())\n",
    "print(series.max())\n",
    "print(series.min())\n",
    "print(series.std())"
   ],
   "id": "aecb1952761ca38b",
   "outputs": [
    {
     "name": "stdout",
     "output_type": "stream",
     "text": [
      "a    200\n",
      "b    400\n",
      "c    600\n",
      "d    800\n",
      "dtype: int64 \n",
      "\n",
      "250.0\n",
      "1000\n",
      "400\n",
      "100\n",
      "129.09944487358058\n"
     ]
    }
   ],
   "execution_count": 41
  },
  {
   "metadata": {},
   "cell_type": "markdown",
   "source": "*Filtering & Conditional Selection in Pandas Series*",
   "id": "e748ea62e1a6a4fb"
  },
  {
   "metadata": {
    "ExecuteTime": {
     "end_time": "2025-02-17T11:51:03.580041Z",
     "start_time": "2025-02-17T11:51:03.547824Z"
    }
   },
   "cell_type": "code",
   "source": [
    "#Filtering elements(conditional selection)\n",
    "print(series,\"\\n\")\n",
    "print(series[series > 200],\"\\n\") # Select values greater than 200\n",
    "\n",
    "#checking for missing values\n",
    "print(series.isnull(),\"\\n\") # Check which values are NaN\n",
    "print(series.notnull(),\"\\n\") # Check which values are NOT NaN"
   ],
   "id": "1641ab97687bbf4a",
   "outputs": [
    {
     "name": "stdout",
     "output_type": "stream",
     "text": [
      "a    100\n",
      "b    200\n",
      "c    300\n",
      "d    400\n",
      "dtype: int64 \n",
      "\n",
      "c    300\n",
      "d    400\n",
      "dtype: int64 \n",
      "\n",
      "a    False\n",
      "b    False\n",
      "c    False\n",
      "d    False\n",
      "dtype: bool \n",
      "\n",
      "a    True\n",
      "b    True\n",
      "c    True\n",
      "d    True\n",
      "dtype: bool \n",
      "\n"
     ]
    }
   ],
   "execution_count": 42
  },
  {
   "metadata": {},
   "cell_type": "markdown",
   "source": [
    "*Handling Missing Data in Series*\n",
    "\n",
    "Sometimes, a Series can have NaN (Not a Number) values. We can handle them using:\n",
    "\n",
    "dropna() → Removes missing values,\n",
    "\n",
    "fillna(value) → Replaces missing values with a specified value"
   ],
   "id": "b6af512b368668a9"
  },
  {
   "metadata": {
    "ExecuteTime": {
     "end_time": "2025-02-17T11:51:03.668423Z",
     "start_time": "2025-02-17T11:51:03.634673Z"
    }
   },
   "cell_type": "code",
   "source": [
    "# Creating a series with missing values\n",
    "data = [10,20,np.nan,40,np.nan,60]\n",
    "series = pd.Series(data)\n",
    "\n",
    "print(\"original series:\\n\",series,\"\\n\")\n",
    "\n",
    "# Dropping missing values\n",
    "print(\"After dropping NaNs:\\n\",series.dropna(),\"\\n\")\n",
    "\n",
    "# Filling missing values with a specific number\n",
    "print(\"After filling missing values:\\n\",series.fillna(0),\"\\n\")\n",
    "\n",
    "# Filling missing values with the mean of the series\n",
    "print(\"After filling missing values with mean of series:\\n\",series.fillna(series.mean()),\"\\n\")"
   ],
   "id": "5de3f9541a617a2e",
   "outputs": [
    {
     "name": "stdout",
     "output_type": "stream",
     "text": [
      "original series:\n",
      " 0    10.0\n",
      "1    20.0\n",
      "2     NaN\n",
      "3    40.0\n",
      "4     NaN\n",
      "5    60.0\n",
      "dtype: float64 \n",
      "\n",
      "After dropping NaNs:\n",
      " 0    10.0\n",
      "1    20.0\n",
      "3    40.0\n",
      "5    60.0\n",
      "dtype: float64 \n",
      "\n",
      "After filling missing values:\n",
      " 0    10.0\n",
      "1    20.0\n",
      "2     0.0\n",
      "3    40.0\n",
      "4     0.0\n",
      "5    60.0\n",
      "dtype: float64 \n",
      "\n",
      "After filling missing values with mean of series:\n",
      " 0    10.0\n",
      "1    20.0\n",
      "2    32.5\n",
      "3    40.0\n",
      "4    32.5\n",
      "5    60.0\n",
      "dtype: float64 \n",
      "\n"
     ]
    }
   ],
   "execution_count": 43
  },
  {
   "metadata": {},
   "cell_type": "markdown",
   "source": [
    "**Creating a DataFrame**\n",
    "\n",
    "*We can create a DataFrame from different sources like:*\n",
    "\n",
    "✅ Python dictionaries\n",
    "✅ Lists of lists\n",
    "✅ NumPy arrays\n",
    "✅ Reading from CSV/Excel\n",
    "\n",
    "1.Creating DataFrame from python dictionary"
   ],
   "id": "b5895a589b8d012a"
  },
  {
   "metadata": {
    "ExecuteTime": {
     "end_time": "2025-02-17T11:51:03.739929Z",
     "start_time": "2025-02-17T11:51:03.729911Z"
    }
   },
   "cell_type": "code",
   "source": [
    "# Creating a dictionary\n",
    "data = {\n",
    "    \"name\":['Alice','Bob','Charlie'],\n",
    "    \"age\":[25,30,35],\n",
    "    \"salary\":[50000,60000,70000]\n",
    "}\n",
    "\n",
    "# Creating DataFrame\n",
    "df = pd.DataFrame(data)\n",
    "\n",
    "# Display DataFrame\n",
    "print(df)"
   ],
   "id": "46d7b4a2987d6942",
   "outputs": [
    {
     "name": "stdout",
     "output_type": "stream",
     "text": [
      "      name  age  salary\n",
      "0    Alice   25   50000\n",
      "1      Bob   30   60000\n",
      "2  Charlie   35   70000\n"
     ]
    }
   ],
   "execution_count": 44
  },
  {
   "metadata": {},
   "cell_type": "markdown",
   "source": "2.Creating DataFrame from list of lists.",
   "id": "4fe022d5cd0f3274"
  },
  {
   "metadata": {
    "ExecuteTime": {
     "end_time": "2025-02-17T11:51:03.768046Z",
     "start_time": "2025-02-17T11:51:03.747463Z"
    }
   },
   "cell_type": "code",
   "source": [
    "data_list = [[\"Alice\",25,50000],[\"Bob\",30,60000],[\"Charlie\",40,70000]]\n",
    "df_list = pd.DataFrame(data_list, columns=[\"Name\",\"Age\",\"Salary\"])\n",
    "\n",
    "print(df_list)"
   ],
   "id": "4fa7a5d7fb9da8e6",
   "outputs": [
    {
     "name": "stdout",
     "output_type": "stream",
     "text": [
      "      Name  Age  Salary\n",
      "0    Alice   25   50000\n",
      "1      Bob   30   60000\n",
      "2  Charlie   40   70000\n"
     ]
    }
   ],
   "execution_count": 45
  },
  {
   "metadata": {},
   "cell_type": "markdown",
   "source": "3.Creating DataFrame from a numpy array.",
   "id": "7b2a6baffd97500b"
  },
  {
   "metadata": {
    "ExecuteTime": {
     "end_time": "2025-02-17T11:51:03.817148Z",
     "start_time": "2025-02-17T11:51:03.807896Z"
    }
   },
   "cell_type": "code",
   "source": [
    "data_np = np.array([[\"Alice\",25,50000],[\"Bob\",30,60000],[\"Charlie\",40,70000]])\n",
    "df_np = pd.DataFrame(data_np, columns=[\"Name\",\"Age\",\"Salary\"])\n",
    "\n",
    "print(df_np)\n"
   ],
   "id": "64feb4a1d24b1e4a",
   "outputs": [
    {
     "name": "stdout",
     "output_type": "stream",
     "text": [
      "      Name Age Salary\n",
      "0    Alice  25  50000\n",
      "1      Bob  30  60000\n",
      "2  Charlie  40  70000\n"
     ]
    }
   ],
   "execution_count": 46
  },
  {
   "metadata": {},
   "cell_type": "markdown",
   "source": [
    "**Accessing Data in a DataFrame**\n",
    "\n",
    "*Accessing Columns*"
   ],
   "id": "fb072d6e8a7a825"
  },
  {
   "metadata": {
    "ExecuteTime": {
     "end_time": "2025-02-17T11:51:03.858052Z",
     "start_time": "2025-02-17T11:51:03.843529Z"
    }
   },
   "cell_type": "code",
   "source": [
    "print(df[\"name\"],\"\\n\") #access the name column\n",
    "print(df[[\"name\",\"salary\"]]) # access multiple columns\n"
   ],
   "id": "f3b116b8a2343523",
   "outputs": [
    {
     "name": "stdout",
     "output_type": "stream",
     "text": [
      "0      Alice\n",
      "1        Bob\n",
      "2    Charlie\n",
      "Name: name, dtype: object \n",
      "\n",
      "      name  salary\n",
      "0    Alice   50000\n",
      "1      Bob   60000\n",
      "2  Charlie   70000\n"
     ]
    }
   ],
   "execution_count": 47
  },
  {
   "metadata": {},
   "cell_type": "markdown",
   "source": "**Accessing Rows by Indexes**",
   "id": "1199fa30cd77bd98"
  },
  {
   "metadata": {
    "ExecuteTime": {
     "end_time": "2025-02-17T11:51:03.908928Z",
     "start_time": "2025-02-17T11:51:03.894963Z"
    }
   },
   "cell_type": "code",
   "source": [
    "print(df.loc[1],\"\\n\") # access the row with index 1\n",
    "print(df.iloc[0]) #access the first row using position"
   ],
   "id": "1697090e9ca5995b",
   "outputs": [
    {
     "name": "stdout",
     "output_type": "stream",
     "text": [
      "name        Bob\n",
      "age          30\n",
      "salary    60000\n",
      "Name: 1, dtype: object \n",
      "\n",
      "name      Alice\n",
      "age          25\n",
      "salary    50000\n",
      "Name: 0, dtype: object\n"
     ]
    }
   ],
   "execution_count": 48
  },
  {
   "metadata": {},
   "cell_type": "markdown",
   "source": [
    "**Why use .iloc[] instead of .loc[]?**\n",
    "\n",
    "*If your DataFrame does not have numerical indices (e.g., a custom index like names or dates), df.loc[0] may not work.*\n",
    "\n",
    "*iloc always works because it strictly uses row positions, no matter what the index labels are.*\n",
    "\n",
    "So, use loc when referring to labels and iloc when referring to positions.\n"
   ],
   "id": "17131038de02b38"
  },
  {
   "metadata": {},
   "cell_type": "markdown",
   "source": [
    "\n",
    "**Slicing Rows**"
   ],
   "id": "19237e5b98b1d5a0"
  },
  {
   "metadata": {
    "ExecuteTime": {
     "end_time": "2025-02-17T11:51:03.974953Z",
     "start_time": "2025-02-17T11:51:03.964207Z"
    }
   },
   "cell_type": "code",
   "source": "print(df[0:2]) # Get first two rows",
   "id": "28ba81294c36359b",
   "outputs": [
    {
     "name": "stdout",
     "output_type": "stream",
     "text": [
      "    name  age  salary\n",
      "0  Alice   25   50000\n",
      "1    Bob   30   60000\n"
     ]
    }
   ],
   "execution_count": 49
  },
  {
   "metadata": {},
   "cell_type": "markdown",
   "source": [
    "**Modifying Data in a DataFrame**\n",
    "\n",
    "*Adding a New Column*"
   ],
   "id": "71e41c099f965b37"
  },
  {
   "metadata": {
    "ExecuteTime": {
     "end_time": "2025-02-17T11:51:04.009276Z",
     "start_time": "2025-02-17T11:51:03.995328Z"
    }
   },
   "cell_type": "code",
   "source": [
    "df[\"bonus\"] = [5000,7000,8000] # Adding a new column\n",
    "print(df)"
   ],
   "id": "2627f33064ba7557",
   "outputs": [
    {
     "name": "stdout",
     "output_type": "stream",
     "text": [
      "      name  age  salary  bonus\n",
      "0    Alice   25   50000   5000\n",
      "1      Bob   30   60000   7000\n",
      "2  Charlie   35   70000   8000\n"
     ]
    }
   ],
   "execution_count": 50
  },
  {
   "metadata": {},
   "cell_type": "markdown",
   "source": "*Modifying an Existing Column*",
   "id": "4489be65c80b209f"
  },
  {
   "metadata": {
    "ExecuteTime": {
     "end_time": "2025-02-17T11:51:04.040613Z",
     "start_time": "2025-02-17T11:51:04.030706Z"
    }
   },
   "cell_type": "code",
   "source": [
    "df[\"salary\"] = df[\"salary\"] + 5000 # Increasing salary by 5000\n",
    "print(df)"
   ],
   "id": "472d61ee7339665",
   "outputs": [
    {
     "name": "stdout",
     "output_type": "stream",
     "text": [
      "      name  age  salary  bonus\n",
      "0    Alice   25   55000   5000\n",
      "1      Bob   30   65000   7000\n",
      "2  Charlie   35   75000   8000\n"
     ]
    }
   ],
   "execution_count": 51
  },
  {
   "metadata": {},
   "cell_type": "markdown",
   "source": "*Updating a Specific Row*",
   "id": "a27f4a78c1e8e4cb"
  },
  {
   "metadata": {
    "ExecuteTime": {
     "end_time": "2025-02-17T11:51:04.093102Z",
     "start_time": "2025-02-17T11:51:04.081853Z"
    }
   },
   "cell_type": "code",
   "source": [
    "df.loc[1,\"age\"] = 32 # Update Bob's age to 32\n",
    "print(df)"
   ],
   "id": "75cfcbec95c7f0ce",
   "outputs": [
    {
     "name": "stdout",
     "output_type": "stream",
     "text": [
      "      name  age  salary  bonus\n",
      "0    Alice   25   55000   5000\n",
      "1      Bob   32   65000   7000\n",
      "2  Charlie   35   75000   8000\n"
     ]
    }
   ],
   "execution_count": 52
  },
  {
   "metadata": {
    "ExecuteTime": {
     "end_time": "2025-02-17T11:51:04.134521Z",
     "start_time": "2025-02-17T11:51:04.121424Z"
    }
   },
   "cell_type": "code",
   "source": [
    "'''You can use .iloc[] instead of .loc[], but there's a key difference:\n",
    "\n",
    ".loc[] is label-based (uses column names).\n",
    "\n",
    ".iloc[] is position-based (uses index positions).\n",
    "\n",
    "Using .iloc[] to Modify a Value:\n",
    "\n",
    "Since age is the 2nd column (index 1 in zero-based indexing), you can update Bob’s age like this:\n",
    "\n",
    "df.iloc[1, 1] = 32  # Update Bob's age to 32\n",
    "\n",
    "print(df)\n",
    "\n",
    "This means:\n",
    "\n",
    "1 → Selects second row (Bob).\n",
    "\n",
    "1 → Selects second column (age).\n",
    "\n",
    "Both .loc[] and .iloc[] work, but .loc[] is preferred when working with column names for better readability. '''"
   ],
   "id": "9fe6a88ce1056a8a",
   "outputs": [
    {
     "data": {
      "text/plain": [
       "\"You can use .iloc[] instead of .loc[], but there's a key difference:\\n\\n.loc[] is label-based (uses column names).\\n\\n.iloc[] is position-based (uses index positions).\\n\\nUsing .iloc[] to Modify a Value:\\n\\nSince age is the 2nd column (index 1 in zero-based indexing), you can update Bob’s age like this:\\n\\ndf.iloc[1, 1] = 32  # Update Bob's age to 32\\n\\nprint(df)\\n\\nThis means:\\n\\n1 → Selects second row (Bob).\\n\\n1 → Selects second column (age).\\n\\nBoth .loc[] and .iloc[] work, but .loc[] is preferred when working with column names for better readability. \""
      ]
     },
     "execution_count": 53,
     "metadata": {},
     "output_type": "execute_result"
    }
   ],
   "execution_count": 53
  },
  {
   "metadata": {},
   "cell_type": "markdown",
   "source": "*Deleting a Column*",
   "id": "f78e869536cb6d5"
  },
  {
   "metadata": {
    "ExecuteTime": {
     "end_time": "2025-02-17T11:51:04.168572Z",
     "start_time": "2025-02-17T11:51:04.157340Z"
    }
   },
   "cell_type": "code",
   "source": [
    "df = df.drop(columns=[\"bonus\"]) # Remove 'bonus' column\n",
    "print(df)"
   ],
   "id": "b7f7867960f56048",
   "outputs": [
    {
     "name": "stdout",
     "output_type": "stream",
     "text": [
      "      name  age  salary\n",
      "0    Alice   25   55000\n",
      "1      Bob   32   65000\n",
      "2  Charlie   35   75000\n"
     ]
    }
   ],
   "execution_count": 54
  },
  {
   "metadata": {},
   "cell_type": "markdown",
   "source": [
    "**Filtering, Sorting, and Aggregations in DataFrames**\n",
    "\n",
    "*Filtering Data*"
   ],
   "id": "89052d356cbaea2e"
  },
  {
   "metadata": {
    "ExecuteTime": {
     "end_time": "2025-02-17T11:51:04.225765Z",
     "start_time": "2025-02-17T11:51:04.213987Z"
    }
   },
   "cell_type": "code",
   "source": [
    "# Select rows where salary is greater than 60,000\n",
    "great_60 = df[df[\"salary\"] > 60000]\n",
    "print(great_60)"
   ],
   "id": "7bf3394fba48d204",
   "outputs": [
    {
     "name": "stdout",
     "output_type": "stream",
     "text": [
      "      name  age  salary\n",
      "1      Bob   32   65000\n",
      "2  Charlie   35   75000\n"
     ]
    }
   ],
   "execution_count": 55
  },
  {
   "metadata": {},
   "cell_type": "markdown",
   "source": "*Sorting Data*",
   "id": "33849cd8900ff4e9"
  },
  {
   "metadata": {
    "ExecuteTime": {
     "end_time": "2025-02-17T11:51:04.297100Z",
     "start_time": "2025-02-17T11:51:04.268292Z"
    }
   },
   "cell_type": "code",
   "source": [
    "# Sort by age in ascending order\n",
    "sorted_df = df.sort_values(by=\"age\")\n",
    "print(sorted_df)\n",
    "\n",
    "# Sort by salary in descending order\n",
    "sorted_df = df.sort_values(by= \"salary\", ascending=False)\n",
    "print(sorted_df)"
   ],
   "id": "435585680dccdf84",
   "outputs": [
    {
     "name": "stdout",
     "output_type": "stream",
     "text": [
      "      name  age  salary\n",
      "0    Alice   25   55000\n",
      "1      Bob   32   65000\n",
      "2  Charlie   35   75000\n",
      "      name  age  salary\n",
      "2  Charlie   35   75000\n",
      "1      Bob   32   65000\n",
      "0    Alice   25   55000\n"
     ]
    }
   ],
   "execution_count": 56
  },
  {
   "metadata": {},
   "cell_type": "markdown",
   "source": "*Aggregation Functions*",
   "id": "bc9ec6934a33ae2a"
  },
  {
   "metadata": {
    "ExecuteTime": {
     "end_time": "2025-02-17T11:51:04.315940Z",
     "start_time": "2025-02-17T11:51:04.309960Z"
    }
   },
   "cell_type": "code",
   "source": [
    "# Get the average salary\n",
    "print(\"Average salary:\", df[\"salary\"].mean())\n",
    "\n",
    "# Get the highest salary\n",
    "print(\"Highest salary:\", df[\"salary\"].max())\n",
    "\n",
    "# Get the lowest salary\n",
    "print(\"Lowest salary:\", df[\"salary\"].min())"
   ],
   "id": "6f05ce23033b902a",
   "outputs": [
    {
     "name": "stdout",
     "output_type": "stream",
     "text": [
      "Average salary: 65000.0\n",
      "Highest salary: 75000\n",
      "Lowest salary: 55000\n"
     ]
    }
   ],
   "execution_count": 57
  },
  {
   "metadata": {},
   "cell_type": "markdown",
   "source": [
    "**Handling Missing Data (dropna, fillna)**\n",
    "\n",
    "Sometimes, data contains missing values (NaN). Pandas provides ways to handle them efficiently.\n",
    "\n",
    "*Checking for Missing Values*"
   ],
   "id": "ea1b0282e738cd71"
  },
  {
   "metadata": {
    "ExecuteTime": {
     "end_time": "2025-02-17T11:51:04.371522Z",
     "start_time": "2025-02-17T11:51:04.360680Z"
    }
   },
   "cell_type": "code",
   "source": [
    "print(df.isnull()) #check which values are NaN\n",
    "print(df.notnull()) #check which values are NOT NaN"
   ],
   "id": "8f54a7236d4f8dec",
   "outputs": [
    {
     "name": "stdout",
     "output_type": "stream",
     "text": [
      "    name    age  salary\n",
      "0  False  False   False\n",
      "1  False  False   False\n",
      "2  False  False   False\n",
      "   name   age  salary\n",
      "0  True  True    True\n",
      "1  True  True    True\n",
      "2  True  True    True\n"
     ]
    }
   ],
   "execution_count": 58
  },
  {
   "metadata": {},
   "cell_type": "markdown",
   "source": "*Creating a DataFrame with Missing Values*",
   "id": "dbfbf0e48c20dc59"
  },
  {
   "metadata": {
    "ExecuteTime": {
     "end_time": "2025-02-17T11:51:04.406534Z",
     "start_time": "2025-02-17T11:51:04.392935Z"
    }
   },
   "cell_type": "code",
   "source": [
    "data = {\n",
    "    \"name\": [\"Alice\", \"Bob\", \"Charlie\", \"David\"],\n",
    "    \"age\": [25, np.nan, 35, 40],\n",
    "    \"salary\": [50000, 60000, np.nan, 80000]\n",
    "}\n",
    "\n",
    "df = pd.DataFrame(data)\n",
    "print(\"Original dataframe:\\n\",df)"
   ],
   "id": "3a60bfb9794f6379",
   "outputs": [
    {
     "name": "stdout",
     "output_type": "stream",
     "text": [
      "Original dataframe:\n",
      "       name   age   salary\n",
      "0    Alice  25.0  50000.0\n",
      "1      Bob   NaN  60000.0\n",
      "2  Charlie  35.0      NaN\n",
      "3    David  40.0  80000.0\n"
     ]
    }
   ],
   "execution_count": 59
  },
  {
   "metadata": {},
   "cell_type": "markdown",
   "source": "*Dropping Missing Values*",
   "id": "ab5cda03023e5e29"
  },
  {
   "metadata": {
    "ExecuteTime": {
     "end_time": "2025-02-17T11:51:04.449622Z",
     "start_time": "2025-02-17T11:51:04.438753Z"
    }
   },
   "cell_type": "code",
   "source": [
    "df_dropped = df.dropna() # Removes rows with NaN values\n",
    "print(\"\\nAfter dropping NaNs:\\n\",df_dropped)"
   ],
   "id": "4a1a59aec5dadada",
   "outputs": [
    {
     "name": "stdout",
     "output_type": "stream",
     "text": [
      "\n",
      "After dropping NaNs:\n",
      "     name   age   salary\n",
      "0  Alice  25.0  50000.0\n",
      "3  David  40.0  80000.0\n"
     ]
    }
   ],
   "execution_count": 60
  },
  {
   "metadata": {},
   "cell_type": "markdown",
   "source": "*Filling Missing Values*",
   "id": "4fe170eb47182aea"
  },
  {
   "metadata": {
    "ExecuteTime": {
     "end_time": "2025-02-17T11:51:04.486625Z",
     "start_time": "2025-02-17T11:51:04.473875Z"
    }
   },
   "cell_type": "code",
   "source": [
    "df_filled = df.fillna(0) # Replace NaNs with 0\n",
    "print(\"\\nAfter filling NaNs with 0:\\n\",df_filled)\n",
    "\n",
    "df_filled_mean = df.fillna(df['salary'].mean()) # Replace NaNs with salary column mean\n",
    "print(\"\\nAfter Filling NaNs with Column Mean:\\n\", df_filled_mean)"
   ],
   "id": "32a58c85f074078b",
   "outputs": [
    {
     "name": "stdout",
     "output_type": "stream",
     "text": [
      "\n",
      "After filling NaNs with 0:\n",
      "       name   age   salary\n",
      "0    Alice  25.0  50000.0\n",
      "1      Bob   0.0  60000.0\n",
      "2  Charlie  35.0      0.0\n",
      "3    David  40.0  80000.0\n",
      "\n",
      "After Filling NaNs with Column Mean:\n",
      "       name           age        salary\n",
      "0    Alice     25.000000  50000.000000\n",
      "1      Bob  63333.333333  60000.000000\n",
      "2  Charlie     35.000000  63333.333333\n",
      "3    David     40.000000  80000.000000\n"
     ]
    }
   ],
   "execution_count": 61
  },
  {
   "metadata": {},
   "cell_type": "markdown",
   "source": [
    "**Importing & Exporting Data**\n",
    "\n",
    "Pandas makes it easy to read and write data in different formats like CSV and Excel.\n",
    "\n",
    "*Importing Data from CSV*"
   ],
   "id": "57bf3b718164e3c6"
  },
  {
   "metadata": {
    "ExecuteTime": {
     "end_time": "2025-02-17T11:51:04.598408Z",
     "start_time": "2025-02-17T11:51:04.548761Z"
    }
   },
   "cell_type": "code",
   "source": [
    "df = pd.read_csv(\"data.csv\") #load csv file into a dataframe\n",
    "print(df.head()) # display first 5 rows"
   ],
   "id": "84a91c207f32b1b9",
   "outputs": [
    {
     "name": "stdout",
     "output_type": "stream",
     "text": [
      "   name   age      role        salary  Unnamed: 4\n",
      "0  sush  21.0       ceo  50,00,00,000         NaN\n",
      "1   bob  25.0   manager     50,00,000         NaN\n",
      "2   sam  40.0  director         45555         NaN\n",
      "3   roy  34.0  employee         34243         NaN\n",
      "4  rita  23.0   support        454232         NaN\n"
     ]
    }
   ],
   "execution_count": 62
  },
  {
   "metadata": {},
   "cell_type": "markdown",
   "source": "*Exporting Data to CSV*",
   "id": "e7a711a179a626f8"
  },
  {
   "metadata": {
    "ExecuteTime": {
     "end_time": "2025-02-17T11:51:04.703396Z",
     "start_time": "2025-02-17T11:51:04.689285Z"
    }
   },
   "cell_type": "code",
   "source": "df.to_csv(\"output.csv\", index=False) # Save DataFrame as CSV without index",
   "id": "c08539512ebd5686",
   "outputs": [],
   "execution_count": 63
  },
  {
   "metadata": {},
   "cell_type": "markdown",
   "source": "*Importing Data from Excel*",
   "id": "b89c9648c6f57907"
  },
  {
   "metadata": {
    "ExecuteTime": {
     "end_time": "2025-02-17T11:51:10.266764Z",
     "start_time": "2025-02-17T11:51:04.714136Z"
    }
   },
   "cell_type": "code",
   "source": [
    "!pip install openpyxl\n",
    "df = pd.read_excel(\"data.xlsx\", sheet_name=\"Sheet1\")\n",
    "print(df.head())\n",
    "!python.exe -m pip install --upgrade pip"
   ],
   "id": "d1e9a8e327a26c8c",
   "outputs": [
    {
     "name": "stdout",
     "output_type": "stream",
     "text": [
      "Requirement already satisfied: openpyxl in c:\\users\\lucky\\pycharmmiscproject\\.venv\\lib\\site-packages (3.1.5)\n",
      "Requirement already satisfied: et-xmlfile in c:\\users\\lucky\\pycharmmiscproject\\.venv\\lib\\site-packages (from openpyxl) (2.0.0)\n",
      "Empty DataFrame\n",
      "Columns: []\n",
      "Index: []\n",
      "Requirement already satisfied: pip in c:\\users\\lucky\\pycharmmiscproject\\.venv\\lib\\site-packages (25.0.1)\n"
     ]
    }
   ],
   "execution_count": 64
  },
  {
   "metadata": {},
   "cell_type": "markdown",
   "source": "*Exporting Data to Excel*",
   "id": "df75d947efce3207"
  },
  {
   "metadata": {
    "ExecuteTime": {
     "end_time": "2025-02-17T11:51:10.350267Z",
     "start_time": "2025-02-17T11:51:10.288265Z"
    }
   },
   "cell_type": "code",
   "source": "df.to_excel(\"output.xlsx\", index=False, sheet_name=\"Sheet1\")",
   "id": "a3cd14275b0b894d",
   "outputs": [],
   "execution_count": 65
  }
 ],
 "metadata": {
  "kernelspec": {
   "display_name": "Python 3",
   "language": "python",
   "name": "python3"
  },
  "language_info": {
   "codemirror_mode": {
    "name": "ipython",
    "version": 2
   },
   "file_extension": ".py",
   "mimetype": "text/x-python",
   "name": "python",
   "nbconvert_exporter": "python",
   "pygments_lexer": "ipython2",
   "version": "2.7.6"
  }
 },
 "nbformat": 4,
 "nbformat_minor": 5
}
